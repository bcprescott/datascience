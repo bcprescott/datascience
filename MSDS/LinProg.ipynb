{
 "cells": [
  {
   "cell_type": "markdown",
   "metadata": {},
   "source": [
    "## Firewall Sales\n",
    "\n",
    "An IT consulting firm sells firewall products for three different technology vendors - Palo Alto, Cisco and Barracuda. \n",
    "\n",
    "The profit of each firewall sale respectively is \\\\$1250, \\\\$1400, and \\\\$1190. Due to quoting system and email delays the company's sales team can only complete up to 100 firewall quotes per day. \n",
    "\n",
    "For each firewall sold, individual SKUs required for threat prevention, centralized management and support. Palo Alto firewalls require two threat prevention licenses, one central management licenses, and one support license. Cisco firewalls require one threat prevention license, one central management license and one support license. Barracuda firewalls require one threat prevention license, two central management licenses and one support license.\n",
    "\n",
    "The IT consulting firm is interesting in maximizing their daily profit from firewall sales.\n",
    "\n",
    "\n",
    "\n",
    "maximum --> $ z = 1250x_1 + 1400x_2 + 1190x_3 $  \n",
    "\n",
    "Quotes      --> $x_1 + x_2 + x_3 \\leq 100 $      \n",
    "\n",
    "Palo SKUs   --> $ 2x_1 + x_2 + x_3 \\leq 75 $    \n",
    "\n",
    "Cisco SKUs  --> $ x_1 + x_2 + x_3 \\leq 60 $   \n",
    "\n",
    "Cuda SKUs   --> $ x_1 + 2x_2 + x_3 \\leq 80 $  \n",
    "\n",
    "$ x_1,x_2,x_3 \\geq 0 $\n",
    "\n"
   ]
  },
  {
   "cell_type": "code",
   "execution_count": 195,
   "metadata": {},
   "outputs": [],
   "source": [
    "#Import SciPy's linear programming library\n",
    "from scipy.optimize import linprog"
   ]
  },
  {
   "cell_type": "code",
   "execution_count": 200,
   "metadata": {},
   "outputs": [],
   "source": [
    "#Defining our objective function - to maximize profit\n",
    "#Due to how SciPy's linprog function only solving minimization we need to change our objective function to be equal to -z\n",
    "obj_func = [-1250,-1400,-1190]\n",
    "\n",
    "#Isolating the left hand side of our inequalities\n",
    "left_ineq = [[1,1,1],    #Daily quotes\n",
    "             [2,1,1],    #Palo Alto Access, Administration and Update SKUs\n",
    "             [1,1,1],    #Cisco Access, Administration and Update SKUs\n",
    "             [1,2,1]]    #Cuda Access, Administration and Update SKUs\n",
    "\n",
    "#Isolating the right hand side of our inequalities\n",
    "right_ineq = [100,    #Daily Quotes limit\n",
    "              75,     #Palo total SKUs available each day\n",
    "              60,     #Cisco total SKUs available each day\n",
    "              80]     #Cuda total SKUs available each day\n",
    "\n",
    "#Defining our minimum and maximum bounds\n",
    "#Not necessary in this case when using SciPy, as it defaults to >= 0\n",
    "x_bounds = [(0, sp.inf), (0, sp.inf), (0, sp.inf)]"
   ]
  },
  {
   "cell_type": "code",
   "execution_count": 201,
   "metadata": {},
   "outputs": [],
   "source": [
    "#Assigning information to the SciPy 'linprog' function.\n",
    "#Leveraging an updated simplex method called 'revised simplex', due to traditional 'simplex' method being deprecated.\n",
    "#Arguments can be found in the SciPy linprog documentation https://docs.scipy.org/doc/scipy/reference/generated/scipy.optimize.linprog.html\n",
    "output = linprog(c=obj_func, \n",
    "                 A_ub=left_ineq, \n",
    "                 b_ub=right_ineq,\n",
    "                 bounds=x_bounds,\n",
    "                 method=\"revised simplex\")"
   ]
  },
  {
   "cell_type": "markdown",
   "metadata": {},
   "source": [
    "## Results\n",
    "\n",
    "When reviewing the result of our linear programming function, we have the following information:\n",
    "\n",
    "To maximize our profit we need to quote: Palo Altos - 15, Ciscos - 20, and Barracudas - 25, with a maximum profit of $76,500. "
   ]
  },
  {
   "cell_type": "code",
   "execution_count": 202,
   "metadata": {},
   "outputs": [
    {
     "data": {
      "text/plain": [
       "     con: array([], dtype=float64)\n",
       "     fun: -76500.0\n",
       " message: 'Optimization terminated successfully.'\n",
       "     nit: 3\n",
       "   slack: array([40.,  0.,  0.,  0.])\n",
       "  status: 0\n",
       " success: True\n",
       "       x: array([15., 20., 25.])"
      ]
     },
     "execution_count": 202,
     "metadata": {},
     "output_type": "execute_result"
    }
   ],
   "source": [
    "output"
   ]
  },
  {
   "cell_type": "code",
   "execution_count": null,
   "metadata": {},
   "outputs": [],
   "source": []
  }
 ],
 "metadata": {
  "kernelspec": {
   "display_name": "Python 3",
   "language": "python",
   "name": "python3"
  },
  "language_info": {
   "codemirror_mode": {
    "name": "ipython",
    "version": 3
   },
   "file_extension": ".py",
   "mimetype": "text/x-python",
   "name": "python",
   "nbconvert_exporter": "python",
   "pygments_lexer": "ipython3",
   "version": "3.7.6"
  }
 },
 "nbformat": 4,
 "nbformat_minor": 4
}
