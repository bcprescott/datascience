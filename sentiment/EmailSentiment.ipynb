{
 "cells": [
  {
   "cell_type": "markdown",
   "metadata": {},
   "source": [
    "# E-mail Sentiment Analysis Using Python & Microsoft Azure\n",
    "\n",
    "### *About*\n",
    "This notebook is focused on performing sentiment analysis on a CSV export from Outlook. We're using our Sent Items folder specifically, as I'm curious to see what ratings I have based on how I respond to individual employees. This is mostly for fun and practice, but can be used in some practical situations.\n",
    "\n",
    "### *Why?*\n",
    "I'm ultimately exploring ways to determine workplace happiness by using historical data to ultimately try to predict future happiness over tenure at a company. There are a ton of moving pieces here, and some that are going to be hard to measure, but this is mostly a fun exercise that allows me to get comfortable with different languages and services. \n",
    "\n",
    "### *Medium.com*\n",
    "There is also an article posted on Medium.com that leverages this notebook. There are follow-up parts being created that will explore the data in more depth, as well as looking at other data we can pull in to complement what we've done here."
   ]
  },
  {
   "cell_type": "markdown",
   "metadata": {},
   "source": [
    "## Package Installation & Preparation"
   ]
  },
  {
   "cell_type": "code",
   "execution_count": 1,
   "metadata": {
    "collapsed": true
   },
   "outputs": [
    {
     "name": "stdout",
     "output_type": "stream",
     "text": [
      "Requirement already satisfied: azure-ai-textanalytics in c:\\users\\ben.prescott\\anaconda3\\lib\\site-packages (1.0.0b4)\n",
      "Requirement already satisfied: msrest>=0.6.0 in c:\\users\\ben.prescott\\appdata\\roaming\\python\\python37\\site-packages (from azure-ai-textanalytics) (0.6.10)\n",
      "Requirement already satisfied: azure-common~=1.1 in c:\\users\\ben.prescott\\appdata\\roaming\\python\\python37\\site-packages (from azure-ai-textanalytics) (1.1.24)\n",
      "Requirement already satisfied: six>=1.6 in c:\\users\\ben.prescott\\appdata\\roaming\\python\\python37\\site-packages (from azure-ai-textanalytics) (1.12.0)\n",
      "Requirement already satisfied: azure-core<2.0.0,>=1.4.0 in c:\\users\\ben.prescott\\anaconda3\\lib\\site-packages (from azure-ai-textanalytics) (1.5.0)\n",
      "Requirement already satisfied: certifi>=2017.4.17 in c:\\users\\ben.prescott\\appdata\\roaming\\python\\python37\\site-packages (from msrest>=0.6.0->azure-ai-textanalytics) (2019.9.11)\n",
      "Requirement already satisfied: requests-oauthlib>=0.5.0 in c:\\users\\ben.prescott\\anaconda3\\lib\\site-packages (from msrest>=0.6.0->azure-ai-textanalytics) (1.3.0)\n",
      "Requirement already satisfied: requests~=2.16 in c:\\users\\ben.prescott\\appdata\\roaming\\python\\python37\\site-packages (from msrest>=0.6.0->azure-ai-textanalytics) (2.22.0)\n",
      "Requirement already satisfied: isodate>=0.6.0 in c:\\users\\ben.prescott\\appdata\\roaming\\python\\python37\\site-packages (from msrest>=0.6.0->azure-ai-textanalytics) (0.6.0)\n",
      "Requirement already satisfied: oauthlib>=3.0.0 in c:\\users\\ben.prescott\\anaconda3\\lib\\site-packages (from requests-oauthlib>=0.5.0->msrest>=0.6.0->azure-ai-textanalytics) (3.1.0)\n",
      "Requirement already satisfied: chardet<3.1.0,>=3.0.2 in c:\\users\\ben.prescott\\appdata\\roaming\\python\\python37\\site-packages (from requests~=2.16->msrest>=0.6.0->azure-ai-textanalytics) (3.0.4)\n",
      "Requirement already satisfied: urllib3!=1.25.0,!=1.25.1,<1.26,>=1.21.1 in c:\\users\\ben.prescott\\appdata\\roaming\\python\\python37\\site-packages (from requests~=2.16->msrest>=0.6.0->azure-ai-textanalytics) (1.25.3)\n",
      "Requirement already satisfied: idna<2.9,>=2.5 in c:\\users\\ben.prescott\\appdata\\roaming\\python\\python37\\site-packages (from requests~=2.16->msrest>=0.6.0->azure-ai-textanalytics) (2.8)\n"
     ]
    }
   ],
   "source": [
    "!pip install azure-ai-textanalytics"
   ]
  },
  {
   "cell_type": "code",
   "execution_count": 2,
   "metadata": {},
   "outputs": [],
   "source": [
    "import pandas as pd\n",
    "import numpy as np\n",
    "import matplotlib.pyplot as plt\n",
    "from matplotlib.pyplot import figure\n",
    "from azure.ai.textanalytics import TextAnalyticsClient\n",
    "from azure.core.credentials import AzureKeyCredential\n",
    "\n",
    "#Key and enpoint from Azure Text Analytics API service\n",
    "key = \"f7c7c91cd70e493ea38521d1cbf698aa\"\n",
    "endpoint = \"https://mediumapi.cognitiveservices.azure.com/\"\n"
   ]
  },
  {
   "cell_type": "markdown",
   "metadata": {},
   "source": [
    "### Azure Authentication & Analysis Functions\n",
    "The first function here is strictly \"canned\" for authentication purposes to the Text Analytics API. The second function we've modified quite a bit from the original found in the Microsoft Quickstart. Here we're going to use a dictionary frequency table to keep track of our sentiment result counts, as well as for future plotting. We have an errors list setup so that we can work to remove found errors later."
   ]
  },
  {
   "cell_type": "code",
   "execution_count": 3,
   "metadata": {},
   "outputs": [],
   "source": [
    "#Creating the Azure authentication function\n",
    "def authenticate_client():\n",
    "    ta_credential = AzureKeyCredential(key)\n",
    "    text_analytics_client = TextAnalyticsClient(endpoint=endpoint, credential=ta_credential)\n",
    "    return text_analytics_client\n",
    "\n",
    "#Core function for running sentiment analysis\n",
    "#Modified to fit our specific needs\n",
    "#Added global variables we'll use later in this notebook\n",
    "def sentiment_analysis_example(client,list_name): \n",
    "    global senti_results \n",
    "    senti_results = {'Positive':0,'Neutral':0,'Negative':0,'Unknown':0}\n",
    "    global senti_errors\n",
    "    senti_errors = []\n",
    "    documents = list_name\n",
    "    for row in documents:\n",
    "        response = client.analyze_sentiment(documents = row)[0]\n",
    "        try:\n",
    "            if response.sentiment == \"positive\":\n",
    "                senti_results['Positive'] += 1\n",
    "            elif response.sentiment == \"neutral\":\n",
    "                senti_results['Neutral'] += 1\n",
    "            elif response.sentiment == \"negative\":\n",
    "                senti_results['Negative'] +=1\n",
    "            else:\n",
    "                senti_results['Unknown'] +=1\n",
    "        except:\n",
    "            senti_errors.append(row)\n",
    "    return(senti_results,senti_errors)\n",
    "\n",
    "#Assigning authentication function to object\n",
    "client = authenticate_client()\n"
   ]
  },
  {
   "cell_type": "markdown",
   "metadata": {},
   "source": [
    "### Loading & Exploring Our Data\n",
    "Loading our CSV file into a DataFrame and reviewing the data. For our e-mail format we needed to use ISO 8859-1."
   ]
  },
  {
   "cell_type": "code",
   "execution_count": 4,
   "metadata": {},
   "outputs": [
    {
     "data": {
      "text/html": [
       "<div>\n",
       "<style scoped>\n",
       "    .dataframe tbody tr th:only-of-type {\n",
       "        vertical-align: middle;\n",
       "    }\n",
       "\n",
       "    .dataframe tbody tr th {\n",
       "        vertical-align: top;\n",
       "    }\n",
       "\n",
       "    .dataframe thead th {\n",
       "        text-align: right;\n",
       "    }\n",
       "</style>\n",
       "<table border=\"1\" class=\"dataframe\">\n",
       "  <thead>\n",
       "    <tr style=\"text-align: right;\">\n",
       "      <th></th>\n",
       "      <th>Subject</th>\n",
       "      <th>Body</th>\n",
       "      <th>From: (Name)</th>\n",
       "      <th>From: (Address)</th>\n",
       "      <th>From: (Type)</th>\n",
       "      <th>To: (Name)</th>\n",
       "      <th>To: (Address)</th>\n",
       "      <th>To: (Type)</th>\n",
       "      <th>CC: (Name)</th>\n",
       "      <th>CC: (Address)</th>\n",
       "      <th>CC: (Type)</th>\n",
       "      <th>BCC: (Name)</th>\n",
       "      <th>BCC: (Address)</th>\n",
       "      <th>BCC: (Type)</th>\n",
       "      <th>Billing Information</th>\n",
       "      <th>Categories</th>\n",
       "      <th>Importance</th>\n",
       "      <th>Mileage</th>\n",
       "      <th>Sensitivity</th>\n",
       "    </tr>\n",
       "  </thead>\n",
       "  <tbody>\n",
       "    <tr>\n",
       "      <td>0</td>\n",
       "      <td>Re: ACTION REQUIRED: Missing Timecard for w/e ...</td>\n",
       "      <td>Since they didn't go over timecard entries dur...</td>\n",
       "      <td>Ben Prescott</td>\n",
       "      <td>/o=ExchangeLabs/ou=Exchange Administrative Gro...</td>\n",
       "      <td>EX</td>\n",
       "      <td>Derek Smith</td>\n",
       "      <td>/o=ExchangeLabs/ou=Exchange Administrative Gro...</td>\n",
       "      <td>EX</td>\n",
       "      <td>NaN</td>\n",
       "      <td>NaN</td>\n",
       "      <td>NaN</td>\n",
       "      <td>NaN</td>\n",
       "      <td>NaN</td>\n",
       "      <td>NaN</td>\n",
       "      <td>NaN</td>\n",
       "      <td>NaN</td>\n",
       "      <td>Normal</td>\n",
       "      <td>NaN</td>\n",
       "      <td>Normal</td>\n",
       "    </tr>\n",
       "    <tr>\n",
       "      <td>1</td>\n",
       "      <td>Re: Missing skills on Resouce Request</td>\n",
       "      <td>I went through all the ones I've heard of and ...</td>\n",
       "      <td>Ben Prescott</td>\n",
       "      <td>/O=EXCHANGELABS/OU=EXCHANGE ADMINISTRATIVE GRO...</td>\n",
       "      <td>EX</td>\n",
       "      <td>Ryan Heringhaus</td>\n",
       "      <td>/o=ExchangeLabs/ou=Exchange Administrative Gro...</td>\n",
       "      <td>EX</td>\n",
       "      <td>Dan Wittenberg;Mickey Weibeler;Krista Meschino</td>\n",
       "      <td>/o=ExchangeLabs/ou=Exchange Administrative Gro...</td>\n",
       "      <td>EX;EX;EX</td>\n",
       "      <td>NaN</td>\n",
       "      <td>NaN</td>\n",
       "      <td>NaN</td>\n",
       "      <td>NaN</td>\n",
       "      <td>NaN</td>\n",
       "      <td>Normal</td>\n",
       "      <td>NaN</td>\n",
       "      <td>Normal</td>\n",
       "    </tr>\n",
       "    <tr>\n",
       "      <td>2</td>\n",
       "      <td>Re: New Payroll Schedule - Missing Deposit</td>\n",
       "      <td>Got it, looks like it just came through. Thank...</td>\n",
       "      <td>Ben Prescott</td>\n",
       "      <td>/O=EXCHANGELABS/OU=EXCHANGE ADMINISTRATIVE GRO...</td>\n",
       "      <td>EX</td>\n",
       "      <td>Michael Hoehne</td>\n",
       "      <td>/o=ExchangeLabs/ou=Exchange Administrative Gro...</td>\n",
       "      <td>EX</td>\n",
       "      <td>AHEAD Human Resources</td>\n",
       "      <td>hr@thinkahead.com</td>\n",
       "      <td>SMTP</td>\n",
       "      <td>NaN</td>\n",
       "      <td>NaN</td>\n",
       "      <td>NaN</td>\n",
       "      <td>NaN</td>\n",
       "      <td>NaN</td>\n",
       "      <td>Normal</td>\n",
       "      <td>NaN</td>\n",
       "      <td>Normal</td>\n",
       "    </tr>\n",
       "    <tr>\n",
       "      <td>3</td>\n",
       "      <td>Re: New Payroll Schedule - Missing Deposit</td>\n",
       "      <td>Any update on this? \\r\\n\\r\\nRegards,\\r\\nBen\\r\\...</td>\n",
       "      <td>Ben Prescott</td>\n",
       "      <td>/O=EXCHANGELABS/OU=EXCHANGE ADMINISTRATIVE GRO...</td>\n",
       "      <td>EX</td>\n",
       "      <td>Michael Hoehne</td>\n",
       "      <td>/o=ExchangeLabs/ou=Exchange Administrative Gro...</td>\n",
       "      <td>EX</td>\n",
       "      <td>AHEAD Human Resources</td>\n",
       "      <td>hr@thinkahead.com</td>\n",
       "      <td>SMTP</td>\n",
       "      <td>NaN</td>\n",
       "      <td>NaN</td>\n",
       "      <td>NaN</td>\n",
       "      <td>NaN</td>\n",
       "      <td>NaN</td>\n",
       "      <td>Normal</td>\n",
       "      <td>NaN</td>\n",
       "      <td>Normal</td>\n",
       "    </tr>\n",
       "    <tr>\n",
       "      <td>4</td>\n",
       "      <td>Re: New Payroll Schedule - Missing Deposit</td>\n",
       "      <td>Thanks Michael.  I have some others on my team...</td>\n",
       "      <td>Ben Prescott</td>\n",
       "      <td>/O=EXCHANGELABS/OU=EXCHANGE ADMINISTRATIVE GRO...</td>\n",
       "      <td>EX</td>\n",
       "      <td>Michael Hoehne</td>\n",
       "      <td>/o=ExchangeLabs/ou=Exchange Administrative Gro...</td>\n",
       "      <td>EX</td>\n",
       "      <td>AHEAD Human Resources</td>\n",
       "      <td>hr@thinkahead.com</td>\n",
       "      <td>SMTP</td>\n",
       "      <td>NaN</td>\n",
       "      <td>NaN</td>\n",
       "      <td>NaN</td>\n",
       "      <td>NaN</td>\n",
       "      <td>NaN</td>\n",
       "      <td>Normal</td>\n",
       "      <td>NaN</td>\n",
       "      <td>Normal</td>\n",
       "    </tr>\n",
       "  </tbody>\n",
       "</table>\n",
       "</div>"
      ],
      "text/plain": [
       "                                             Subject  \\\n",
       "0  Re: ACTION REQUIRED: Missing Timecard for w/e ...   \n",
       "1              Re: Missing skills on Resouce Request   \n",
       "2         Re: New Payroll Schedule - Missing Deposit   \n",
       "3         Re: New Payroll Schedule - Missing Deposit   \n",
       "4         Re: New Payroll Schedule - Missing Deposit   \n",
       "\n",
       "                                                Body  From: (Name)  \\\n",
       "0  Since they didn't go over timecard entries dur...  Ben Prescott   \n",
       "1  I went through all the ones I've heard of and ...  Ben Prescott   \n",
       "2  Got it, looks like it just came through. Thank...  Ben Prescott   \n",
       "3  Any update on this? \\r\\n\\r\\nRegards,\\r\\nBen\\r\\...  Ben Prescott   \n",
       "4  Thanks Michael.  I have some others on my team...  Ben Prescott   \n",
       "\n",
       "                                     From: (Address) From: (Type)  \\\n",
       "0  /o=ExchangeLabs/ou=Exchange Administrative Gro...           EX   \n",
       "1  /O=EXCHANGELABS/OU=EXCHANGE ADMINISTRATIVE GRO...           EX   \n",
       "2  /O=EXCHANGELABS/OU=EXCHANGE ADMINISTRATIVE GRO...           EX   \n",
       "3  /O=EXCHANGELABS/OU=EXCHANGE ADMINISTRATIVE GRO...           EX   \n",
       "4  /O=EXCHANGELABS/OU=EXCHANGE ADMINISTRATIVE GRO...           EX   \n",
       "\n",
       "        To: (Name)                                      To: (Address)  \\\n",
       "0      Derek Smith  /o=ExchangeLabs/ou=Exchange Administrative Gro...   \n",
       "1  Ryan Heringhaus  /o=ExchangeLabs/ou=Exchange Administrative Gro...   \n",
       "2   Michael Hoehne  /o=ExchangeLabs/ou=Exchange Administrative Gro...   \n",
       "3   Michael Hoehne  /o=ExchangeLabs/ou=Exchange Administrative Gro...   \n",
       "4   Michael Hoehne  /o=ExchangeLabs/ou=Exchange Administrative Gro...   \n",
       "\n",
       "  To: (Type)                                      CC: (Name)  \\\n",
       "0         EX                                             NaN   \n",
       "1         EX  Dan Wittenberg;Mickey Weibeler;Krista Meschino   \n",
       "2         EX                           AHEAD Human Resources   \n",
       "3         EX                           AHEAD Human Resources   \n",
       "4         EX                           AHEAD Human Resources   \n",
       "\n",
       "                                       CC: (Address) CC: (Type) BCC: (Name)  \\\n",
       "0                                                NaN        NaN         NaN   \n",
       "1  /o=ExchangeLabs/ou=Exchange Administrative Gro...   EX;EX;EX         NaN   \n",
       "2                                  hr@thinkahead.com       SMTP         NaN   \n",
       "3                                  hr@thinkahead.com       SMTP         NaN   \n",
       "4                                  hr@thinkahead.com       SMTP         NaN   \n",
       "\n",
       "  BCC: (Address) BCC: (Type)  Billing Information  Categories Importance  \\\n",
       "0            NaN         NaN                  NaN         NaN     Normal   \n",
       "1            NaN         NaN                  NaN         NaN     Normal   \n",
       "2            NaN         NaN                  NaN         NaN     Normal   \n",
       "3            NaN         NaN                  NaN         NaN     Normal   \n",
       "4            NaN         NaN                  NaN         NaN     Normal   \n",
       "\n",
       "   Mileage Sensitivity  \n",
       "0      NaN      Normal  \n",
       "1      NaN      Normal  \n",
       "2      NaN      Normal  \n",
       "3      NaN      Normal  \n",
       "4      NaN      Normal  "
      ]
     },
     "execution_count": 4,
     "metadata": {},
     "output_type": "execute_result"
    }
   ],
   "source": [
    "#Assign your filename to a variable\n",
    "emailFile = 'BenSent.CSV'\n",
    "\n",
    "#Display the first 5 rows of our CSV to inspect\n",
    "#Notice encoding - this seemed to work for our CSV\n",
    "email_data = pd.read_csv(emailFile,encoding='ISO 8859-1')\n",
    "email_data.head()"
   ]
  },
  {
   "cell_type": "markdown",
   "metadata": {},
   "source": [
    "# Cleaning & Preparing The Dataset "
   ]
  },
  {
   "cell_type": "markdown",
   "metadata": {},
   "source": [
    "### Body Column\n",
    "We're going to focus on just the Body column from our dataset, as the rest is irrelevant when determining sentiment."
   ]
  },
  {
   "cell_type": "code",
   "execution_count": 5,
   "metadata": {
    "scrolled": false
   },
   "outputs": [
    {
     "name": "stdout",
     "output_type": "stream",
     "text": [
      "0    Since they didn't go over timecard entries dur...\n",
      "1    I went through all the ones I've heard of and ...\n",
      "2    Got it, looks like it just came through. Thank...\n",
      "3    Any update on this? \\r\\n\\r\\nRegards,\\r\\nBen\\r\\...\n",
      "4    Thanks Michael.  I have some others on my team...\n",
      "Name: Body, dtype: object\n",
      "\n",
      "\n",
      "Starting email count: (1675,)\n"
     ]
    }
   ],
   "source": [
    "#Assign Body column to new object\n",
    "email_body = email_data['Body']\n",
    "\n",
    "#Display top 5 rows and the overall length of the series\n",
    "print(email_body.head())\n",
    "print('\\n')\n",
    "print(\"Starting email count:\",email_body.shape)"
   ]
  },
  {
   "cell_type": "markdown",
   "metadata": {},
   "source": [
    "### Removing \\r and \\n Characters\n",
    "Replacing found strings for \\r and \\n so that we don't try to analyze those."
   ]
  },
  {
   "cell_type": "code",
   "execution_count": 6,
   "metadata": {},
   "outputs": [
    {
     "name": "stdout",
     "output_type": "stream",
     "text": [
      "0    Since they didn't go over timecard entries dur...\n",
      "1    I went through all the ones I've heard of and ...\n",
      "2    Got it, looks like it just came through. Thank...\n",
      "3    Any update on this? Regards,BenOn Wed, Jan 15,...\n",
      "4    Thanks Michael.  I have some others on my team...\n",
      "Name: Body, dtype: object\n",
      "\n",
      "\n",
      "Current e-mail count: (1675,)\n"
     ]
    }
   ],
   "source": [
    "#Removing \\r and \\n characters from strings\n",
    "email_body = email_body.str.replace(\"\\r\",\"\")\n",
    "email_body = email_body.str.replace(\"\\n\",\"\")\n",
    "\n",
    "#Display top 5 rows and the overall length of the series\n",
    "print(email_body.head())\n",
    "print('\\n')\n",
    "print(\"Current e-mail count:\",email_body.shape)"
   ]
  },
  {
   "cell_type": "markdown",
   "metadata": {},
   "source": [
    "### Partitioning by E-mail Signature\n",
    "Finding all rows/strings that have \"Regards\" in them (to signify the start of my automatically added e-mail signature) and added them to separate columns temporarily. We'll drop these columns soon so we have just the starting data from the email. "
   ]
  },
  {
   "cell_type": "code",
   "execution_count": 7,
   "metadata": {},
   "outputs": [
    {
     "name": "stdout",
     "output_type": "stream",
     "text": [
      "                                                   0        1  \\\n",
      "0  Since they didn't go over timecard entries dur...  Regards   \n",
      "1  I went through all the ones I've heard of and ...  Regards   \n",
      "2  Got it, looks like it just came through. Thank...  Regards   \n",
      "\n",
      "                                                   2  \n",
      "0  ,BenSent from my Verizon, Samsung Galaxy smart...  \n",
      "1  ,BenOn Thu, Jan 16, 2020, 6:37 PM Ryan Heringh...  \n",
      "2  ,BenOn Wed, Jan 15, 2020, 2:59 PM Michael Hoeh...  \n",
      "\n",
      "\n",
      "Current e-mail count: (1675, 3)\n"
     ]
    }
   ],
   "source": [
    "#Removing trailing email threads after start of my email signature\n",
    "split_df = email_body.str.partition(\"Regards\")\n",
    "print(split_df[0:3])\n",
    "print('\\n')\n",
    "print(\"Current e-mail count:\",split_df.shape)"
   ]
  },
  {
   "cell_type": "markdown",
   "metadata": {},
   "source": [
    "### Dropping Partitioned Columns & NaN Rows\n",
    "Simply dropping the second and third columns from our last step and removing empty rows."
   ]
  },
  {
   "cell_type": "code",
   "execution_count": 8,
   "metadata": {},
   "outputs": [
    {
     "name": "stdout",
     "output_type": "stream",
     "text": [
      "E-mail count before NaN removal: 1675\n",
      "E-mail count after NaN removal: 1642\n"
     ]
    }
   ],
   "source": [
    "#Removing extra fluff from partitioning\n",
    "clean_col = split_df.drop(columns=[1,2]) #1 contains \"Regards\", 2 contains trailing text\n",
    "#Removing rows with NaN - no data\n",
    "clean_nan = clean_col.dropna()\n",
    "\n",
    "print(\"E-mail count before NaN removal:\",clean_col.shape[0]) #Display before NaN removal\n",
    "print(\"E-mail count after NaN removal:\",clean_nan.shape[0]) #Display before NaN removal"
   ]
  },
  {
   "cell_type": "markdown",
   "metadata": {},
   "source": [
    "### Column Rename, PTO & Forwarded Message Removal\n",
    "Adding a name to our column header for easier identification and also finding rows that contain my default PTO response and any forwarded messages without responses first and removing them."
   ]
  },
  {
   "cell_type": "code",
   "execution_count": 9,
   "metadata": {},
   "outputs": [
    {
     "name": "stdout",
     "output_type": "stream",
     "text": [
      "E-mail count before removals: 1642\n",
      "E-mail count after removing PTO messages: 1460\n",
      "E-mail count after also removing forwarded messages: 1399\n"
     ]
    }
   ],
   "source": [
    "#Updating the primary column with name EmailBody\n",
    "clean_nan = clean_nan.rename(columns={0:\"EmailBody\"})\n",
    "\n",
    "#Remove emails with default out of office reply\n",
    "clean_pto = clean_nan[~clean_nan.EmailBody.str.contains(\"Hello,I am currently\")]\n",
    "\n",
    "#Remove emails with a forwarded message\n",
    "cleaned_df = clean_pto[~clean_pto.EmailBody.str.contains(\"---------- Forwarded message ---------\")]\n",
    "\n",
    "print(\"E-mail count before removals:\",clean_nan.shape[0]) #Pre PTO count\n",
    "print(\"E-mail count after removing PTO messages:\",clean_pto.shape[0]) #Post PTO count\n",
    "print(\"E-mail count after also removing forwarded messages:\",cleaned_df.shape[0]) #Post fwd removal"
   ]
  },
  {
   "cell_type": "markdown",
   "metadata": {},
   "source": [
    "### Spot Check Review\n",
    "Simply reviewing the data again to see where we're at and what looks \"wrong\"."
   ]
  },
  {
   "cell_type": "code",
   "execution_count": 10,
   "metadata": {
    "scrolled": true
   },
   "outputs": [
    {
     "name": "stdout",
     "output_type": "stream",
     "text": [
      "                                              EmailBody\n",
      "0     Since they didn't go over timecard entries dur...\n",
      "1     I went through all the ones I've heard of and ...\n",
      "2     Got it, looks like it just came through. Thank...\n",
      "3                                  Any update on this? \n",
      "4     Thanks Michael.  I have some others on my team...\n",
      "...                                                 ...\n",
      "1670  Oof. You can include me and I can provide some...\n",
      "1671  You want me to get involved with this? I can p...\n",
      "1672  Looks like Bruno just looped him in. Ill step...\n",
      "1673  Fyi this feels weird and is being built in a s...\n",
      "1674  Updated the NVA verbiage from Cisco to Palo Al...\n",
      "\n",
      "[1399 rows x 1 columns]\n",
      "\n",
      "\n",
      "Current e-mail count: (1399, 1)\n"
     ]
    }
   ],
   "source": [
    "#Reviewing the new data\n",
    "#Some rows still appear to be empty we'll clean this later.\n",
    "print(cleaned_df)\n",
    "print('\\n')\n",
    "print(\"Current e-mail count:\",cleaned_df.shape)"
   ]
  },
  {
   "cell_type": "markdown",
   "metadata": {},
   "source": [
    "### Replacing Empty Rows With NaN\n",
    "Based on our last review I was able to find empty rows still, but something was keeping them from being caught by .dropna. We're going to find some spaces and replace them with NaN to drop. We'll catch additional errors later."
   ]
  },
  {
   "cell_type": "code",
   "execution_count": 11,
   "metadata": {},
   "outputs": [
    {
     "name": "stdout",
     "output_type": "stream",
     "text": [
      "                                              EmailBody\n",
      "0     Since they didn't go over timecard entries dur...\n",
      "1     I went through all the ones I've heard of and ...\n",
      "2     Got it, looks like it just came through. Thank...\n",
      "3                                  Any update on this? \n",
      "4     Thanks Michael.  I have some others on my team...\n",
      "...                                                 ...\n",
      "1670  Oof. You can include me and I can provide some...\n",
      "1671  You want me to get involved with this? I can p...\n",
      "1672  Looks like Bruno just looped him in. Ill step...\n",
      "1673  Fyi this feels weird and is being built in a s...\n",
      "1674  Updated the NVA verbiage from Cisco to Palo Al...\n",
      "\n",
      "[1399 rows x 1 columns]\n"
     ]
    },
    {
     "name": "stderr",
     "output_type": "stream",
     "text": [
      "C:\\Users\\ben.prescott\\AppData\\Roaming\\Python\\Python37\\site-packages\\pandas\\core\\generic.py:6786: SettingWithCopyWarning: \n",
      "A value is trying to be set on a copy of a slice from a DataFrame\n",
      "\n",
      "See the caveats in the documentation: http://pandas.pydata.org/pandas-docs/stable/user_guide/indexing.html#returning-a-view-versus-a-copy\n",
      "  self._update_inplace(new_data)\n"
     ]
    }
   ],
   "source": [
    "#Considering we know we still have rows with no data, we'll replace the empty space with NaN\n",
    "#We can see all visible rows with nothing now show NaN\n",
    "cleaned_df['EmailBody'].replace(\" \",np.nan,inplace=True)\n",
    "print(cleaned_df)"
   ]
  },
  {
   "cell_type": "markdown",
   "metadata": {},
   "source": [
    "### Dropping New NaN Rows\n",
    "Now that we've replaced blank rows with NaN we can target and drop them as well."
   ]
  },
  {
   "cell_type": "code",
   "execution_count": 12,
   "metadata": {
    "scrolled": true
   },
   "outputs": [
    {
     "name": "stdout",
     "output_type": "stream",
     "text": [
      "                                              EmailBody\n",
      "0     Since they didn't go over timecard entries dur...\n",
      "1     I went through all the ones I've heard of and ...\n",
      "2     Got it, looks like it just came through. Thank...\n",
      "3                                  Any update on this? \n",
      "4     Thanks Michael.  I have some others on my team...\n",
      "...                                                 ...\n",
      "1670  Oof. You can include me and I can provide some...\n",
      "1671  You want me to get involved with this? I can p...\n",
      "1672  Looks like Bruno just looped him in. Ill step...\n",
      "1673  Fyi this feels weird and is being built in a s...\n",
      "1674  Updated the NVA verbiage from Cisco to Palo Al...\n",
      "\n",
      "[1288 rows x 1 columns]\n",
      "\n",
      "\n",
      "E-mail count after dropping empty rows/rows with NaN: (1288, 1)\n"
     ]
    }
   ],
   "source": [
    "#We can now find all rows with NaN and drop them using pd.dropna\n",
    "cleaned_df = cleaned_df.dropna()\n",
    "print(cleaned_df)\n",
    "print('\\n')\n",
    "print(\"E-mail count after dropping empty rows/rows with NaN:\",cleaned_df.shape)"
   ]
  },
  {
   "cell_type": "markdown",
   "metadata": {},
   "source": [
    "### Sentiment Analysis Prep\n",
    "We're going to iterate over our DataFrame and dump each string into a list of lists. We're going to use this in preparation to send each list to our API and return a result."
   ]
  },
  {
   "cell_type": "code",
   "execution_count": 13,
   "metadata": {},
   "outputs": [
    {
     "name": "stdout",
     "output_type": "stream",
     "text": [
      "E-mail count before error removal, ready for analysis: 1288\n"
     ]
    }
   ],
   "source": [
    "#Create an empty list to store values\n",
    "#Iterate over each row in the dataframe and append it to the list\n",
    "\n",
    "senti_list = []\n",
    "\n",
    "for row in range((cleaned_df.shape[0])):\n",
    "    senti_list.append(list(cleaned_df.iloc[row,:]))\n",
    "    \n",
    "#Length of list matches length of old df \n",
    "print(\"E-mail count before error removal, ready for analysis:\",len(senti_list))"
   ]
  },
  {
   "cell_type": "markdown",
   "metadata": {},
   "source": [
    "# Sentiment Analysis & Error Removal"
   ]
  },
  {
   "cell_type": "markdown",
   "metadata": {},
   "source": [
    "### Analysis Round #1\n",
    "Initial round of analysis. Passing in the list called \"senti_list\"."
   ]
  },
  {
   "cell_type": "code",
   "execution_count": 14,
   "metadata": {},
   "outputs": [],
   "source": [
    "#Trigger the sentiment analysis function, passing in our list of lists\n",
    "sentiment = sentiment_analysis_example(client,senti_list)"
   ]
  },
  {
   "cell_type": "markdown",
   "metadata": {},
   "source": [
    "### Analysis Round #1 - Output\n",
    "Reviewing the output of Round 1. We can see that we have some Unknown results, meaning the API couldn't make an overall determination. We can also see we have some errors as part of the output. In the function defined at the beginning, we have a Try\\Except setup to catch errors and log the row causing the error into an empty list. \n",
    "\n",
    "Based on the output we can determine we have random spacing causing errors, as we can't determine the sentiment of nothing. :)\n"
   ]
  },
  {
   "cell_type": "code",
   "execution_count": 15,
   "metadata": {},
   "outputs": [
    {
     "name": "stdout",
     "output_type": "stream",
     "text": [
      "{'Positive': 360, 'Neutral': 412, 'Negative': 149, 'Unknown': 356}\n",
      "\n",
      "\n",
      "Sentiment errors: [['  '], ['  '], ['  '], ['  '], ['  '], [''], ['  '], [''], ['  '], ['  '], ['']]\n",
      "Error count: 11\n"
     ]
    }
   ],
   "source": [
    "print(senti_results)\n",
    "print(\"\\n\")\n",
    "print(\"Sentiment errors:\",senti_errors)\n",
    "print(\"Error count:\",len(senti_errors))"
   ]
  },
  {
   "cell_type": "markdown",
   "metadata": {},
   "source": [
    "### Removing Erroring Rows\n",
    "Iterating over both the errors list, as well as the original dataset and removing rows that match the errors in the errors list. We can see we removed exactly 11 rows, which matches up with our errors list."
   ]
  },
  {
   "cell_type": "code",
   "execution_count": 16,
   "metadata": {},
   "outputs": [
    {
     "name": "stdout",
     "output_type": "stream",
     "text": [
      "E-mail count after removing error rows. Final used for analysis: 1277\n"
     ]
    }
   ],
   "source": [
    "#Removing the errors from our list of lists\n",
    "#Assigning to a new variable so we have the unmodified original\n",
    "senti_cleaned = senti_list\n",
    "\n",
    "for i in senti_errors:\n",
    "    for row in senti_cleaned:\n",
    "        if i == row:\n",
    "            senti_cleaned.remove(row)\n",
    "            \n",
    "print(\"E-mail count after removing error rows. Final used for analysis:\",len(senti_cleaned))"
   ]
  },
  {
   "cell_type": "markdown",
   "metadata": {},
   "source": [
    "### Analysis Round #2\n",
    "Second round of analysis after cleaning up the errors. Also using a new object containing our data to keep from impacting our original."
   ]
  },
  {
   "cell_type": "code",
   "execution_count": 17,
   "metadata": {},
   "outputs": [],
   "source": [
    "#Triggering next run of analysis on the final dataset\n",
    "sentiment = sentiment_analysis_example(client,senti_cleaned)"
   ]
  },
  {
   "cell_type": "markdown",
   "metadata": {},
   "source": [
    "### Analysis Round #2 - Output\n",
    "We can see that we  no longer have any errors and that all of our results are being analyzed. We still have a good amount of Unknown responses, but that could be caused by a variety of issues. I can already assume many of my responses are simply images or GIFs that aren't distinguishable. :) We can continue to clean if we want, but for funsies we'll carry on."
   ]
  },
  {
   "cell_type": "code",
   "execution_count": 18,
   "metadata": {
    "scrolled": false
   },
   "outputs": [
    {
     "name": "stdout",
     "output_type": "stream",
     "text": [
      "{'Positive': 360, 'Neutral': 412, 'Negative': 149, 'Unknown': 356}\n",
      "\n",
      "\n",
      "Sentiment errors: []\n",
      "Error count: 0\n"
     ]
    }
   ],
   "source": [
    "#Displaying the sentiment analysis results\n",
    "print(senti_results)\n",
    "print(\"\\n\")\n",
    "print(\"Sentiment errors:\",senti_errors)\n",
    "print(\"Error count:\",len(senti_errors))"
   ]
  },
  {
   "cell_type": "markdown",
   "metadata": {},
   "source": [
    "# Visualization"
   ]
  },
  {
   "cell_type": "markdown",
   "metadata": {},
   "source": [
    "### Plotting Percentages & Counts\n",
    "To end on a basic note, we're going to plot the percentage of our results against the total emails, as well as the counts of each one. We'll do this in a nice pie and bar chart. \n",
    "\n",
    "In a future notebook we'll continue on with this and find ranges of the individual scores presented, not just the overall label."
   ]
  },
  {
   "cell_type": "code",
   "execution_count": 19,
   "metadata": {
    "scrolled": false
   },
   "outputs": [
    {
     "data": {
      "image/png": "[encoded data removed]",
      "text/plain": [
       "<Figure size 640x640 with 2 Axes>"
      ]
     },
     "metadata": {
      "needs_background": "light"
     },
     "output_type": "display_data"
    }
   ],
   "source": [
    "#Setting our Key/Value pairs from our results\n",
    "keys = senti_results.keys()\n",
    "values = senti_results.values()\n",
    "\n",
    "#Establishing some format changes for our charts\n",
    "figure(num=None, figsize=(8,8),dpi=80)\n",
    "colors = ['seagreen','lightsteelblue','indianred','silver']\n",
    "explode = (0.1, 0, 0, 0)\n",
    "plt.rcParams.update({'font.size': 12})\n",
    "\n",
    "#Creating the first plot (pie chart)\n",
    "plt.subplot(221)\n",
    "plt.pie(values,labels=keys,colors=colors, explode=explode,autopct='%1.1f%%',shadow=True,startangle=90)\n",
    "plt.title('Overall Sentiment Against 1,277 E-mails, by Percentage',bbox={'facecolor':'1','pad':8},y=1.10)\n",
    "\n",
    "#Creating the second plot (bar chart)\n",
    "plt.subplot(222)\n",
    "plt.title('E-mail Count by Sentiment Result',bbox={'facecolor':'1','pad':8},y=1.10)\n",
    "plt.bar(keys,values,width=.8,color=colors)\n",
    "\n",
    "#Adjusting the spacing/padding between subplots\n",
    "plt.subplots_adjust(left=0.125, bottom=0.1, right=1.8, top=1.3, wspace=0.2, hspace=0.2)\n",
    "\n",
    "#Displaying the plots\n",
    "plt.show()"
   ]
  }
 ],
 "metadata": {
  "kernelspec": {
   "display_name": "Python 3",
   "language": "python",
   "name": "python3"
  },
  "language_info": {
   "codemirror_mode": {
    "name": "ipython",
    "version": 3
   },
   "file_extension": ".py",
   "mimetype": "text/x-python",
   "name": "python",
   "nbconvert_exporter": "python",
   "pygments_lexer": "ipython3",
   "version": "3.7.6"
  }
 },
 "nbformat": 4,
 "nbformat_minor": 2
}
