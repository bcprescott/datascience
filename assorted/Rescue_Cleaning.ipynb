{
 "cells": [
  {
   "cell_type": "code",
   "execution_count": 137,
   "metadata": {},
   "outputs": [],
   "source": [
    "import pandas as pd\n",
    "import numpy as np\n",
    "import matplotlib.pyplot as plt\n",
    "import datetime as dt\n",
    "from matplotlib.pyplot import figure"
   ]
  },
  {
   "cell_type": "markdown",
   "metadata": {},
   "source": [
    "## EDA & Data Cleaning"
   ]
  },
  {
   "cell_type": "markdown",
   "metadata": {},
   "source": [
    "#### Read & Review Dataset"
   ]
  },
  {
   "cell_type": "code",
   "execution_count": 149,
   "metadata": {},
   "outputs": [
    {
     "data": {
      "text/html": [
       "<div>\n",
       "<style scoped>\n",
       "    .dataframe tbody tr th:only-of-type {\n",
       "        vertical-align: middle;\n",
       "    }\n",
       "\n",
       "    .dataframe tbody tr th {\n",
       "        vertical-align: top;\n",
       "    }\n",
       "\n",
       "    .dataframe thead th {\n",
       "        text-align: right;\n",
       "    }\n",
       "</style>\n",
       "<table border=\"1\" class=\"dataframe\">\n",
       "  <thead>\n",
       "    <tr style=\"text-align: right;\">\n",
       "      <th></th>\n",
       "      <th>2019-08-19 09:00:00 -0700</th>\n",
       "      <th>slack</th>\n",
       "      <th>Slack | Zach Milleson, Jason Bruno | AHEAD</th>\n",
       "      <th>Communication &amp; Scheduling</th>\n",
       "      <th>Instant Message</th>\n",
       "      <th>179</th>\n",
       "    </tr>\n",
       "  </thead>\n",
       "  <tbody>\n",
       "    <tr>\n",
       "      <td>0</td>\n",
       "      <td>2019-08-19 09:00:00 -0700</td>\n",
       "      <td>thinkaheadit.sharepoint.com</td>\n",
       "      <td>No Details</td>\n",
       "      <td>Uncategorized</td>\n",
       "      <td>Uncategorized</td>\n",
       "      <td>66</td>\n",
       "    </tr>\n",
       "    <tr>\n",
       "      <td>1</td>\n",
       "      <td>2019-08-19 09:00:00 -0700</td>\n",
       "      <td>msedge</td>\n",
       "      <td>No Details</td>\n",
       "      <td>Utilities</td>\n",
       "      <td>Browsers</td>\n",
       "      <td>56</td>\n",
       "    </tr>\n",
       "    <tr>\n",
       "      <td>2</td>\n",
       "      <td>2019-08-19 09:00:00 -0700</td>\n",
       "      <td>rescuetime.com</td>\n",
       "      <td>RescueTime - Privacy settings - Google Chrome</td>\n",
       "      <td>Business</td>\n",
       "      <td>Intelligence</td>\n",
       "      <td>43</td>\n",
       "    </tr>\n",
       "    <tr>\n",
       "      <td>3</td>\n",
       "      <td>2019-08-19 09:00:00 -0700</td>\n",
       "      <td>rescuetime.com</td>\n",
       "      <td>RescueTime - Your Daily dashboard - Google Chrome</td>\n",
       "      <td>Business</td>\n",
       "      <td>Intelligence</td>\n",
       "      <td>27</td>\n",
       "    </tr>\n",
       "    <tr>\n",
       "      <td>4</td>\n",
       "      <td>2019-08-19 09:00:00 -0700</td>\n",
       "      <td>linkedin.com</td>\n",
       "      <td>Ryan Heringhaus - Director of America's Techni...</td>\n",
       "      <td>Social Networking</td>\n",
       "      <td>Professional Networking</td>\n",
       "      <td>19</td>\n",
       "    </tr>\n",
       "  </tbody>\n",
       "</table>\n",
       "</div>"
      ],
      "text/plain": [
       "   2019-08-19 09:00:00 -0700                        slack  \\\n",
       "0  2019-08-19 09:00:00 -0700  thinkaheadit.sharepoint.com   \n",
       "1  2019-08-19 09:00:00 -0700                       msedge   \n",
       "2  2019-08-19 09:00:00 -0700               rescuetime.com   \n",
       "3  2019-08-19 09:00:00 -0700               rescuetime.com   \n",
       "4  2019-08-19 09:00:00 -0700                 linkedin.com   \n",
       "\n",
       "          Slack | Zach Milleson, Jason Bruno | AHEAD  \\\n",
       "0                                         No Details   \n",
       "1                                         No Details   \n",
       "2      RescueTime - Privacy settings - Google Chrome   \n",
       "3  RescueTime - Your Daily dashboard - Google Chrome   \n",
       "4  Ryan Heringhaus - Director of America's Techni...   \n",
       "\n",
       "  Communication & Scheduling          Instant Message  179  \n",
       "0              Uncategorized            Uncategorized   66  \n",
       "1                  Utilities                 Browsers   56  \n",
       "2                   Business             Intelligence   43  \n",
       "3                   Business             Intelligence   27  \n",
       "4          Social Networking  Professional Networking   19  "
      ]
     },
     "execution_count": 149,
     "metadata": {},
     "output_type": "execute_result"
    }
   ],
   "source": [
    "rescue_df = pd.read_csv('rescuetime-history.csv')\n",
    "rescue_df.head()"
   ]
  },
  {
   "cell_type": "markdown",
   "metadata": {},
   "source": [
    "#### Rename Columns"
   ]
  },
  {
   "cell_type": "code",
   "execution_count": 150,
   "metadata": {},
   "outputs": [
    {
     "name": "stdout",
     "output_type": "stream",
     "text": [
      "Index(['date', 'app_name', 'app_details', 'app_category', 'app_type',\n",
      "       'app_usage'],\n",
      "      dtype='object')\n",
      "<class 'pandas.core.frame.DataFrame'>\n",
      "RangeIndex: 52970 entries, 0 to 52969\n",
      "Data columns (total 6 columns):\n",
      "date            52970 non-null object\n",
      "app_name        52952 non-null object\n",
      "app_details     52970 non-null object\n",
      "app_category    52970 non-null object\n",
      "app_type        52970 non-null object\n",
      "app_usage       52970 non-null int64\n",
      "dtypes: int64(1), object(5)\n",
      "memory usage: 2.4+ MB\n",
      "None\n"
     ]
    }
   ],
   "source": [
    "new_columns = ['date','app_name','app_details','app_category','app_type','app_usage']\n",
    "rescue_df.columns = new_columns\n",
    "print(rescue_df.columns)\n",
    "print(rescue_df.info())"
   ]
  },
  {
   "cell_type": "markdown",
   "metadata": {},
   "source": [
    "#### Clean NaN Values & Drop Rows"
   ]
  },
  {
   "cell_type": "code",
   "execution_count": 151,
   "metadata": {},
   "outputs": [
    {
     "name": "stdout",
     "output_type": "stream",
     "text": [
      "<class 'pandas.core.frame.DataFrame'>\n",
      "Int64Index: 52952 entries, 0 to 52969\n",
      "Data columns (total 6 columns):\n",
      "date            52952 non-null object\n",
      "app_name        52952 non-null object\n",
      "app_details     52952 non-null object\n",
      "app_category    52952 non-null object\n",
      "app_type        52952 non-null object\n",
      "app_usage       52952 non-null int64\n",
      "dtypes: int64(1), object(5)\n",
      "memory usage: 2.8+ MB\n"
     ]
    }
   ],
   "source": [
    "rescue_df.replace('',np.nan)\n",
    "rescue_df.dropna(inplace=True)\n",
    "rescue_df.info()"
   ]
  },
  {
   "cell_type": "markdown",
   "metadata": {},
   "source": [
    "#### Remove UTC, Time and Convert Column to DateTime"
   ]
  },
  {
   "cell_type": "code",
   "execution_count": 152,
   "metadata": {},
   "outputs": [
    {
     "name": "stdout",
     "output_type": "stream",
     "text": [
      "<class 'pandas.core.frame.DataFrame'>\n",
      "Int64Index: 52952 entries, 0 to 52969\n",
      "Data columns (total 6 columns):\n",
      "date            52952 non-null datetime64[ns]\n",
      "app_name        52952 non-null object\n",
      "app_details     52952 non-null object\n",
      "app_category    52952 non-null object\n",
      "app_type        52952 non-null object\n",
      "app_usage       52952 non-null int64\n",
      "dtypes: datetime64[ns](1), int64(1), object(4)\n",
      "memory usage: 2.8+ MB\n"
     ]
    }
   ],
   "source": [
    "utc_rem = []\n",
    "for r in rescue_df['date']:\n",
    "    dte = r[:-15]\n",
    "    utc_rem.append(dte)\n",
    "    \n",
    "rescue_df['date'] = utc_rem\n",
    "rescue_df['date'] = rescue_df['date'].apply(lambda x: dt.datetime.strptime(x,'%Y-%m-%d'))\n",
    "rescue_df.info()"
   ]
  },
  {
   "cell_type": "code",
   "execution_count": 110,
   "metadata": {},
   "outputs": [
    {
     "data": {
      "text/html": [
       "<div>\n",
       "<style scoped>\n",
       "    .dataframe tbody tr th:only-of-type {\n",
       "        vertical-align: middle;\n",
       "    }\n",
       "\n",
       "    .dataframe tbody tr th {\n",
       "        vertical-align: top;\n",
       "    }\n",
       "\n",
       "    .dataframe thead th {\n",
       "        text-align: right;\n",
       "    }\n",
       "</style>\n",
       "<table border=\"1\" class=\"dataframe\">\n",
       "  <thead>\n",
       "    <tr style=\"text-align: right;\">\n",
       "      <th></th>\n",
       "      <th>app_name</th>\n",
       "      <th>app_usage</th>\n",
       "    </tr>\n",
       "  </thead>\n",
       "  <tbody>\n",
       "    <tr>\n",
       "      <td>1622</td>\n",
       "      <td>slack</td>\n",
       "      <td>1045729</td>\n",
       "    </tr>\n",
       "    <tr>\n",
       "      <td>1211</td>\n",
       "      <td>msedge</td>\n",
       "      <td>392583</td>\n",
       "    </tr>\n",
       "    <tr>\n",
       "      <td>154</td>\n",
       "      <td>atmgr</td>\n",
       "      <td>144979</td>\n",
       "    </tr>\n",
       "    <tr>\n",
       "      <td>1771</td>\n",
       "      <td>teams</td>\n",
       "      <td>122560</td>\n",
       "    </tr>\n",
       "    <tr>\n",
       "      <td>682</td>\n",
       "      <td>facebook.com</td>\n",
       "      <td>118398</td>\n",
       "    </tr>\n",
       "    <tr>\n",
       "      <td>1337</td>\n",
       "      <td>outlook</td>\n",
       "      <td>104276</td>\n",
       "    </tr>\n",
       "    <tr>\n",
       "      <td>2040</td>\n",
       "      <td>youtube.com</td>\n",
       "      <td>81926</td>\n",
       "    </tr>\n",
       "    <tr>\n",
       "      <td>1418</td>\n",
       "      <td>powerpnt</td>\n",
       "      <td>77584</td>\n",
       "    </tr>\n",
       "    <tr>\n",
       "      <td>116</td>\n",
       "      <td>app.dataquest.io</td>\n",
       "      <td>53738</td>\n",
       "    </tr>\n",
       "    <tr>\n",
       "      <td>1090</td>\n",
       "      <td>mail.google.com</td>\n",
       "      <td>45832</td>\n",
       "    </tr>\n",
       "  </tbody>\n",
       "</table>\n",
       "</div>"
      ],
      "text/plain": [
       "              app_name  app_usage\n",
       "1622             slack    1045729\n",
       "1211            msedge     392583\n",
       "154              atmgr     144979\n",
       "1771             teams     122560\n",
       "682       facebook.com     118398\n",
       "1337           outlook     104276\n",
       "2040       youtube.com      81926\n",
       "1418          powerpnt      77584\n",
       "116   app.dataquest.io      53738\n",
       "1090   mail.google.com      45832"
      ]
     },
     "execution_count": 110,
     "metadata": {},
     "output_type": "execute_result"
    }
   ],
   "source": [
    "grouped_app = rescue_df.copy()\n",
    "grouped_app = grouped_app.groupby('app_name',as_index=False).agg(np.sum)\n",
    "grouped_app_sorted = grouped_app.sort_values(by='app_usage',ascending=False)\n",
    "grouped_app_sorted.head(10)"
   ]
  },
  {
   "cell_type": "code",
   "execution_count": 111,
   "metadata": {},
   "outputs": [
    {
     "data": {
      "text/html": [
       "<div>\n",
       "<style scoped>\n",
       "    .dataframe tbody tr th:only-of-type {\n",
       "        vertical-align: middle;\n",
       "    }\n",
       "\n",
       "    .dataframe tbody tr th {\n",
       "        vertical-align: top;\n",
       "    }\n",
       "\n",
       "    .dataframe thead th {\n",
       "        text-align: right;\n",
       "    }\n",
       "</style>\n",
       "<table border=\"1\" class=\"dataframe\">\n",
       "  <thead>\n",
       "    <tr style=\"text-align: right;\">\n",
       "      <th></th>\n",
       "      <th>app_name</th>\n",
       "      <th>app_usage</th>\n",
       "    </tr>\n",
       "  </thead>\n",
       "  <tbody>\n",
       "    <tr>\n",
       "      <td>1622</td>\n",
       "      <td>slack</td>\n",
       "      <td>290</td>\n",
       "    </tr>\n",
       "    <tr>\n",
       "      <td>1211</td>\n",
       "      <td>msedge</td>\n",
       "      <td>109</td>\n",
       "    </tr>\n",
       "    <tr>\n",
       "      <td>154</td>\n",
       "      <td>atmgr</td>\n",
       "      <td>40</td>\n",
       "    </tr>\n",
       "    <tr>\n",
       "      <td>1771</td>\n",
       "      <td>teams</td>\n",
       "      <td>34</td>\n",
       "    </tr>\n",
       "    <tr>\n",
       "      <td>682</td>\n",
       "      <td>facebook.com</td>\n",
       "      <td>33</td>\n",
       "    </tr>\n",
       "    <tr>\n",
       "      <td>1337</td>\n",
       "      <td>outlook</td>\n",
       "      <td>29</td>\n",
       "    </tr>\n",
       "    <tr>\n",
       "      <td>2040</td>\n",
       "      <td>youtube.com</td>\n",
       "      <td>23</td>\n",
       "    </tr>\n",
       "    <tr>\n",
       "      <td>1418</td>\n",
       "      <td>powerpnt</td>\n",
       "      <td>22</td>\n",
       "    </tr>\n",
       "    <tr>\n",
       "      <td>116</td>\n",
       "      <td>app.dataquest.io</td>\n",
       "      <td>15</td>\n",
       "    </tr>\n",
       "    <tr>\n",
       "      <td>1090</td>\n",
       "      <td>mail.google.com</td>\n",
       "      <td>13</td>\n",
       "    </tr>\n",
       "  </tbody>\n",
       "</table>\n",
       "</div>"
      ],
      "text/plain": [
       "              app_name  app_usage\n",
       "1622             slack        290\n",
       "1211            msedge        109\n",
       "154              atmgr         40\n",
       "1771             teams         34\n",
       "682       facebook.com         33\n",
       "1337           outlook         29\n",
       "2040       youtube.com         23\n",
       "1418          powerpnt         22\n",
       "116   app.dataquest.io         15\n",
       "1090   mail.google.com         13"
      ]
     },
     "execution_count": 111,
     "metadata": {},
     "output_type": "execute_result"
    }
   ],
   "source": [
    "usage_hours = []\n",
    "for s in grouped_app_sorted['app_usage']:\n",
    "    h = round(s / 3600)\n",
    "    usage_hours.append(h)\n",
    "\n",
    "grouped_app_sorted['app_usage'] = usage_hours\n",
    "grouped_app_sorted_top = grouped_app_sorted.head(10)\n",
    "grouped_app_sorted_top"
   ]
  },
  {
   "cell_type": "code",
   "execution_count": 112,
   "metadata": {},
   "outputs": [
    {
     "name": "stderr",
     "output_type": "stream",
     "text": [
      "C:\\Users\\ben.prescott\\AppData\\Roaming\\Python\\Python37\\site-packages\\ipykernel_launcher.py:6: SettingWithCopyWarning: \n",
      "A value is trying to be set on a copy of a slice from a DataFrame.\n",
      "Try using .loc[row_indexer,col_indexer] = value instead\n",
      "\n",
      "See the caveats in the documentation: http://pandas.pydata.org/pandas-docs/stable/user_guide/indexing.html#returning-a-view-versus-a-copy\n",
      "  \n"
     ]
    },
    {
     "data": {
      "text/html": [
       "<div>\n",
       "<style scoped>\n",
       "    .dataframe tbody tr th:only-of-type {\n",
       "        vertical-align: middle;\n",
       "    }\n",
       "\n",
       "    .dataframe tbody tr th {\n",
       "        vertical-align: top;\n",
       "    }\n",
       "\n",
       "    .dataframe thead th {\n",
       "        text-align: right;\n",
       "    }\n",
       "</style>\n",
       "<table border=\"1\" class=\"dataframe\">\n",
       "  <thead>\n",
       "    <tr style=\"text-align: right;\">\n",
       "      <th></th>\n",
       "      <th>app_name</th>\n",
       "      <th>app_usage</th>\n",
       "    </tr>\n",
       "  </thead>\n",
       "  <tbody>\n",
       "    <tr>\n",
       "      <td>1622</td>\n",
       "      <td>slack</td>\n",
       "      <td>290</td>\n",
       "    </tr>\n",
       "    <tr>\n",
       "      <td>1211</td>\n",
       "      <td>msedge</td>\n",
       "      <td>109</td>\n",
       "    </tr>\n",
       "    <tr>\n",
       "      <td>154</td>\n",
       "      <td>webex</td>\n",
       "      <td>40</td>\n",
       "    </tr>\n",
       "    <tr>\n",
       "      <td>1771</td>\n",
       "      <td>teams</td>\n",
       "      <td>34</td>\n",
       "    </tr>\n",
       "    <tr>\n",
       "      <td>682</td>\n",
       "      <td>facebook</td>\n",
       "      <td>33</td>\n",
       "    </tr>\n",
       "    <tr>\n",
       "      <td>1337</td>\n",
       "      <td>outlook</td>\n",
       "      <td>29</td>\n",
       "    </tr>\n",
       "    <tr>\n",
       "      <td>2040</td>\n",
       "      <td>youtube</td>\n",
       "      <td>23</td>\n",
       "    </tr>\n",
       "    <tr>\n",
       "      <td>1418</td>\n",
       "      <td>powerpoint</td>\n",
       "      <td>22</td>\n",
       "    </tr>\n",
       "    <tr>\n",
       "      <td>116</td>\n",
       "      <td>dataquest</td>\n",
       "      <td>15</td>\n",
       "    </tr>\n",
       "    <tr>\n",
       "      <td>1090</td>\n",
       "      <td>gmail</td>\n",
       "      <td>13</td>\n",
       "    </tr>\n",
       "  </tbody>\n",
       "</table>\n",
       "</div>"
      ],
      "text/plain": [
       "        app_name  app_usage\n",
       "1622       slack        290\n",
       "1211      msedge        109\n",
       "154        webex         40\n",
       "1771       teams         34\n",
       "682     facebook         33\n",
       "1337     outlook         29\n",
       "2040     youtube         23\n",
       "1418  powerpoint         22\n",
       "116    dataquest         15\n",
       "1090       gmail         13"
      ]
     },
     "execution_count": 112,
     "metadata": {},
     "output_type": "execute_result"
    }
   ],
   "source": [
    "grouped_app_sorted_top['app_name'] = grouped_app_sorted_top['app_name'].replace({'atmgr':'webex',\n",
    "                                                                                 'facebook.com':'facebook',\n",
    "                                                                                 'youtube.com':'youtube',\n",
    "                                                                                 'mail.google.com':'gmail',\n",
    "                                                                                 'app.dataquest.io':'dataquest',\n",
    "                                                                                 'powerpnt':'powerpoint'})\n",
    "\n",
    "grouped_app_sorted_top"
   ]
  },
  {
   "cell_type": "code",
   "execution_count": 113,
   "metadata": {},
   "outputs": [
    {
     "data": {
      "text/plain": [
       "<BarContainer object of 10 artists>"
      ]
     },
     "execution_count": 113,
     "metadata": {},
     "output_type": "execute_result"
    },
    {
     "data": {
      "image/png": "[encoded data removed]",
      "text/plain": [
       "<Figure size 432x288 with 1 Axes>"
      ]
     },
     "metadata": {
      "needs_background": "light"
     },
     "output_type": "display_data"
    }
   ],
   "source": [
    "apps = grouped_app_sorted_top['app_name']\n",
    "hours = grouped_app_sorted_top['app_usage']\n",
    "\n",
    "plt.title('Top 10 Apps Used - 12 Month Span')\n",
    "plt.ylabel('Application')\n",
    "plt.xlabel('Hours Consumed')\n",
    "plt.barh(apps,hours,color='darkred')"
   ]
  },
  {
   "cell_type": "code",
   "execution_count": null,
   "metadata": {},
   "outputs": [],
   "source": [
    "### LEFT OFF HERE ###\n",
    "\n",
    "grouped_date = rescue_df.copy()\n",
    "grouped_date_sorted = grouped_date.sort_values(by='date',ascending=False)\n",
    "grouped_date_sorted"
   ]
  }
 ],
 "metadata": {
  "kernelspec": {
   "display_name": "Python 3",
   "language": "python",
   "name": "python3"
  },
  "language_info": {
   "codemirror_mode": {
    "name": "ipython",
    "version": 3
   },
   "file_extension": ".py",
   "mimetype": "text/x-python",
   "name": "python",
   "nbconvert_exporter": "python",
   "pygments_lexer": "ipython3",
   "version": "3.7.6"
  }
 },
 "nbformat": 4,
 "nbformat_minor": 4
}
